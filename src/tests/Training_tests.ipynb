{
 "cells": [
  {
   "cell_type": "code",
   "execution_count": 1,
   "id": "4740a005",
   "metadata": {},
   "outputs": [],
   "source": [
    "from core import models\n",
    "from core import data \n",
    "import utils \n",
    "import torch.nn as nn\n",
    "import torch\n",
    "import os\n",
    "from tqdm import trange, tqdm\n"
   ]
  },
  {
   "cell_type": "code",
   "execution_count": 2,
   "id": "d7b795e6",
   "metadata": {},
   "outputs": [
    {
     "name": "stdout",
     "output_type": "stream",
     "text": [
      "directory: ../../classifier_test already exists, backing up this folder ... \n",
      "backup directory also exists, removing the backup directory first\n"
     ]
    }
   ],
   "source": [
    "data_dir = \"../../different_cards\"\n",
    "device = \"cpu\"\n",
    "exp_dir = \"../../classifier_test\"\n",
    "\n",
    "utils.prepare_directory(exp_dir)"
   ]
  },
  {
   "cell_type": "code",
   "execution_count": 3,
   "id": "25c19a5d",
   "metadata": {},
   "outputs": [],
   "source": [
    "logger_titles = [\n",
    "        'lr',\n",
    "        'train_loss',\n",
    "        'val_loss',\n",
    "        'train_top1',\n",
    "        'val_top1',\n",
    "        'train_time',\n",
    "        'val_time']\n"
   ]
  },
  {
   "cell_type": "code",
   "execution_count": 4,
   "id": "aab1bb63",
   "metadata": {},
   "outputs": [
    {
     "name": "stdout",
     "output_type": "stream",
     "text": [
      "13 validation split from training\n",
      "115 training remains\n"
     ]
    }
   ],
   "source": [
    "criterion = nn.CrossEntropyLoss().to(device)\n",
    "datahandler = data.CardDataHandler(data_dir, uniform_sampling=True)"
   ]
  },
  {
   "cell_type": "code",
   "execution_count": 5,
   "id": "f461acc0",
   "metadata": {},
   "outputs": [
    {
     "name": "stdout",
     "output_type": "stream",
     "text": [
      "created uniform sampler\n"
     ]
    }
   ],
   "source": [
    "trainloader, valloader = datahandler.get_dataloaders(batch_size=8)"
   ]
  },
  {
   "cell_type": "code",
   "execution_count": 6,
   "id": "3a3dd709",
   "metadata": {},
   "outputs": [],
   "source": [
    "# create the convnet and optimizer\n",
    "model = models.ConvNet()\n",
    "\n",
    "lr = 0.0001\n",
    "momentum = 0.9\n",
    "wd = 1e-4\n",
    "optimizer = torch.optim.SGD(model.parameters(), lr=lr, momentum=momentum, weight_decay=wd)"
   ]
  },
  {
   "cell_type": "code",
   "execution_count": 7,
   "id": "1fc405bb",
   "metadata": {},
   "outputs": [],
   "source": [
    "log_dir = os.path.join(exp_dir, \"training_logs\")\n",
    "utils.prepare_directory(log_dir)\n",
    "logger = utils.Logger(log_dir, 'logs', logger_titles)"
   ]
  },
  {
   "cell_type": "code",
   "execution_count": 8,
   "id": "d79189b5",
   "metadata": {},
   "outputs": [
    {
     "name": "stderr",
     "output_type": "stream",
     "text": [
      "epoch_monitor:   0%|          | 0/10 [00:00<?, ?it/s]\n",
      "training loop:   0%|          | 0/115 [00:00<?, ?it/s]\u001b[A/Users/jasonzhang/opt/anaconda3/envs/taskTohsakaTorch/lib/python3.8/site-packages/torch/nn/functional.py:718: UserWarning: Named tensors and all their associated APIs are an experimental feature and subject to change. Please do not use them for anything important until they are released as stable. (Triggered internally at  /Users/distiller/project/conda/conda-bld/pytorch_1623459044803/work/c10/core/TensorImpl.h:1156.)\n",
      "  return torch.max_pool2d(input, kernel_size, stride, padding, dilation, ceil_mode)\n",
      "\n",
      "training loop:   7%|▋         | 8/115 [00:04<01:01,  1.75it/s]\u001b[A\n",
      "training loop:  14%|█▍        | 16/115 [00:06<00:35,  2.81it/s]\u001b[A\n",
      "training loop:  21%|██        | 24/115 [00:07<00:25,  3.57it/s]\u001b[A\n",
      "training loop:  28%|██▊       | 32/115 [00:09<00:20,  4.11it/s]\u001b[A\n",
      "training loop:  35%|███▍      | 40/115 [00:10<00:16,  4.47it/s]\u001b[A\n",
      "training loop:  42%|████▏     | 48/115 [00:12<00:14,  4.72it/s]\u001b[A\n",
      "training loop:  49%|████▊     | 56/115 [00:13<00:12,  4.89it/s]\u001b[A\n",
      "training loop:  56%|█████▌    | 64/115 [00:15<00:10,  5.01it/s]\u001b[A\n",
      "training loop:  63%|██████▎   | 72/115 [00:16<00:08,  5.10it/s]\u001b[A\n",
      "training loop:  70%|██████▉   | 80/115 [00:18<00:06,  5.16it/s]\u001b[A\n",
      "training loop:  77%|███████▋  | 88/115 [00:19<00:05,  5.17it/s]\u001b[A\n",
      "training loop:  83%|████████▎ | 96/115 [00:21<00:03,  5.05it/s]\u001b[A\n",
      "training loop:  90%|█████████ | 104/115 [00:23<00:02,  5.08it/s]\u001b[A\n",
      "training loop:  97%|█████████▋| 112/115 [00:24<00:00,  5.03it/s]\u001b[A\n",
      "training loop: 100%|██████████| 115/115 [00:25<00:00,  4.44it/s]\u001b[A\n",
      "\n",
      "val loop:   0%|          | 0/13 [00:00<?, ?it/s]\u001b[A\n",
      "val loop:  62%|██████▏   | 8/13 [00:03<00:01,  2.57it/s]\u001b[A\n",
      "val loop: 100%|██████████| 13/13 [00:13<00:00,  1.03s/it]\u001b[A\n",
      "epoch_monitor:  10%|█         | 1/10 [00:39<05:55, 39.55s/it]"
     ]
    },
    {
     "name": "stdout",
     "output_type": "stream",
     "text": [
      "train loss: 1.14  val loss: 1.04 val acc: 0.38\n"
     ]
    },
    {
     "name": "stderr",
     "output_type": "stream",
     "text": [
      "\n",
      "training loop:   0%|          | 0/115 [00:00<?, ?it/s]\u001b[A\n",
      "training loop:   7%|▋         | 8/115 [00:03<00:52,  2.03it/s]\u001b[A\n",
      "training loop:  14%|█▍        | 16/115 [00:05<00:31,  3.19it/s]\u001b[A\n",
      "training loop:  21%|██        | 24/115 [00:07<00:23,  3.81it/s]\u001b[A\n",
      "training loop:  28%|██▊       | 32/115 [00:08<00:19,  4.20it/s]\u001b[A\n",
      "training loop:  35%|███▍      | 40/115 [00:10<00:16,  4.45it/s]\u001b[A\n",
      "training loop:  42%|████▏     | 48/115 [00:11<00:14,  4.69it/s]\u001b[A\n",
      "training loop:  49%|████▊     | 56/115 [00:13<00:12,  4.86it/s]\u001b[A\n",
      "training loop:  56%|█████▌    | 64/115 [00:14<00:10,  4.93it/s]\u001b[A\n",
      "training loop:  63%|██████▎   | 72/115 [00:16<00:08,  5.00it/s]\u001b[A\n",
      "training loop:  70%|██████▉   | 80/115 [00:18<00:06,  5.04it/s]\u001b[A\n",
      "training loop:  77%|███████▋  | 88/115 [00:19<00:05,  5.08it/s]\u001b[A\n",
      "training loop:  83%|████████▎ | 96/115 [00:21<00:03,  5.12it/s]\u001b[A\n",
      "training loop:  90%|█████████ | 104/115 [00:22<00:02,  5.18it/s]\u001b[A\n",
      "training loop:  97%|█████████▋| 112/115 [00:24<00:00,  5.22it/s]\u001b[A\n",
      "training loop: 100%|██████████| 115/115 [00:25<00:00,  4.54it/s]\u001b[A\n",
      "\n",
      "val loop:   0%|          | 0/13 [00:00<?, ?it/s]\u001b[A\n",
      "val loop:  62%|██████▏   | 8/13 [00:03<00:01,  2.50it/s]\u001b[A\n",
      "val loop: 100%|██████████| 13/13 [00:13<00:00,  1.04s/it]\u001b[A\n",
      "epoch_monitor:  20%|██        | 2/10 [01:18<05:13, 39.24s/it]"
     ]
    },
    {
     "name": "stdout",
     "output_type": "stream",
     "text": [
      "train loss: 0.98  val loss: 0.92 val acc: 0.62\n"
     ]
    },
    {
     "name": "stderr",
     "output_type": "stream",
     "text": [
      "\n",
      "training loop:   0%|          | 0/115 [00:00<?, ?it/s]\u001b[A\n",
      "training loop:   7%|▋         | 8/115 [00:04<00:59,  1.80it/s]\u001b[A\n",
      "training loop:  14%|█▍        | 16/115 [00:06<00:35,  2.83it/s]\u001b[A\n",
      "training loop:  21%|██        | 24/115 [00:07<00:25,  3.58it/s]\u001b[A\n",
      "training loop:  28%|██▊       | 32/115 [00:09<00:20,  4.10it/s]\u001b[A\n",
      "training loop:  35%|███▍      | 40/115 [00:10<00:16,  4.58it/s]\u001b[A\n",
      "training loop:  42%|████▏     | 48/115 [00:11<00:13,  4.92it/s]\u001b[A\n",
      "training loop:  49%|████▊     | 56/115 [00:13<00:11,  5.21it/s]\u001b[A\n",
      "training loop:  56%|█████▌    | 64/115 [00:14<00:09,  5.29it/s]\u001b[A\n",
      "training loop:  63%|██████▎   | 72/115 [00:16<00:07,  5.40it/s]\u001b[A\n",
      "training loop:  70%|██████▉   | 80/115 [00:17<00:06,  5.52it/s]\u001b[A\n",
      "training loop:  77%|███████▋  | 88/115 [00:18<00:04,  5.56it/s]\u001b[A\n",
      "training loop:  83%|████████▎ | 96/115 [00:20<00:03,  5.52it/s]\u001b[A\n",
      "training loop:  90%|█████████ | 104/115 [00:21<00:01,  5.53it/s]\u001b[A\n",
      "training loop:  97%|█████████▋| 112/115 [00:23<00:00,  5.65it/s]\u001b[A\n",
      "training loop: 100%|██████████| 115/115 [00:24<00:00,  4.73it/s]\u001b[A\n",
      "\n",
      "val loop:   0%|          | 0/13 [00:00<?, ?it/s]\u001b[A\n",
      "val loop:  62%|██████▏   | 8/13 [00:03<00:01,  2.57it/s]\u001b[A\n",
      "val loop: 100%|██████████| 13/13 [00:13<00:00,  1.03s/it]\u001b[A\n",
      "epoch_monitor:  30%|███       | 3/10 [01:56<04:30, 38.61s/it]"
     ]
    },
    {
     "name": "stdout",
     "output_type": "stream",
     "text": [
      "train loss: 0.82  val loss: 0.76 val acc: 0.85\n"
     ]
    },
    {
     "name": "stderr",
     "output_type": "stream",
     "text": [
      "\n",
      "training loop:   0%|          | 0/115 [00:00<?, ?it/s]\u001b[A\n",
      "training loop:   7%|▋         | 8/115 [00:03<00:48,  2.19it/s]\u001b[A\n",
      "training loop:  14%|█▍        | 16/115 [00:05<00:28,  3.47it/s]\u001b[A\n",
      "training loop:  21%|██        | 24/115 [00:06<00:21,  4.27it/s]\u001b[A\n",
      "training loop:  28%|██▊       | 32/115 [00:07<00:17,  4.78it/s]\u001b[A\n",
      "training loop:  35%|███▍      | 40/115 [00:09<00:15,  4.91it/s]\u001b[A\n",
      "training loop:  42%|████▏     | 48/115 [00:10<00:12,  5.21it/s]\u001b[A\n",
      "training loop:  49%|████▊     | 56/115 [00:11<00:10,  5.42it/s]\u001b[A\n",
      "training loop:  56%|█████▌    | 64/115 [00:13<00:09,  5.39it/s]\u001b[A\n",
      "training loop:  63%|██████▎   | 72/115 [00:14<00:07,  5.39it/s]\u001b[A\n",
      "training loop:  70%|██████▉   | 80/115 [00:16<00:06,  5.34it/s]\u001b[A\n",
      "training loop:  77%|███████▋  | 88/115 [00:18<00:05,  5.33it/s]\u001b[A\n",
      "training loop:  83%|████████▎ | 96/115 [00:19<00:03,  5.36it/s]\u001b[A\n",
      "training loop:  90%|█████████ | 104/115 [00:20<00:02,  5.35it/s]\u001b[A\n",
      "training loop:  97%|█████████▋| 112/115 [00:22<00:00,  5.31it/s]\u001b[A\n",
      "training loop: 100%|██████████| 115/115 [00:23<00:00,  4.86it/s]\u001b[A\n",
      "\n",
      "val loop:   0%|          | 0/13 [00:00<?, ?it/s]\u001b[A\n",
      "val loop:  62%|██████▏   | 8/13 [00:03<00:02,  2.30it/s]\u001b[A\n",
      "val loop: 100%|██████████| 13/13 [00:13<00:00,  1.05s/it]\u001b[A\n",
      "epoch_monitor:  40%|████      | 4/10 [02:33<03:49, 38.17s/it]"
     ]
    },
    {
     "name": "stdout",
     "output_type": "stream",
     "text": [
      "train loss: 0.70  val loss: 0.61 val acc: 0.92\n"
     ]
    },
    {
     "name": "stderr",
     "output_type": "stream",
     "text": [
      "\n",
      "training loop:   0%|          | 0/115 [00:00<?, ?it/s]\u001b[A\n",
      "training loop:   7%|▋         | 8/115 [00:03<00:46,  2.30it/s]\u001b[A\n",
      "training loop:  14%|█▍        | 16/115 [00:04<00:27,  3.57it/s]\u001b[A\n",
      "training loop:  21%|██        | 24/115 [00:06<00:21,  4.31it/s]\u001b[A\n",
      "training loop:  28%|██▊       | 32/115 [00:07<00:17,  4.79it/s]\u001b[A\n",
      "training loop:  35%|███▍      | 40/115 [00:08<00:14,  5.16it/s]\u001b[A\n",
      "training loop:  42%|████▏     | 48/115 [00:10<00:12,  5.40it/s]\u001b[A\n",
      "training loop:  49%|████▊     | 56/115 [00:11<00:10,  5.56it/s]\u001b[A\n",
      "training loop:  56%|█████▌    | 64/115 [00:13<00:08,  5.67it/s]\u001b[A\n",
      "training loop:  63%|██████▎   | 72/115 [00:14<00:07,  5.77it/s]\u001b[A\n",
      "training loop:  70%|██████▉   | 80/115 [00:15<00:06,  5.82it/s]\u001b[A\n",
      "training loop:  77%|███████▋  | 88/115 [00:17<00:04,  5.86it/s]\u001b[A\n",
      "training loop:  83%|████████▎ | 96/115 [00:18<00:03,  5.89it/s]\u001b[A\n",
      "training loop:  90%|█████████ | 104/115 [00:19<00:01,  5.90it/s]\u001b[A\n",
      "training loop:  97%|█████████▋| 112/115 [00:21<00:00,  5.91it/s]\u001b[A\n",
      "training loop: 100%|██████████| 115/115 [00:22<00:00,  5.20it/s]\u001b[A\n",
      "\n",
      "val loop:   0%|          | 0/13 [00:00<?, ?it/s]\u001b[A\n",
      "val loop:  62%|██████▏   | 8/13 [00:02<00:01,  2.88it/s]\u001b[A\n",
      "val loop: 100%|██████████| 13/13 [00:13<00:00,  1.00s/it]\u001b[A\n",
      "epoch_monitor:  50%|█████     | 5/10 [03:09<03:05, 37.13s/it]"
     ]
    },
    {
     "name": "stdout",
     "output_type": "stream",
     "text": [
      "train loss: 0.61  val loss: 0.55 val acc: 0.92\n"
     ]
    },
    {
     "name": "stderr",
     "output_type": "stream",
     "text": [
      "\n",
      "training loop:   0%|          | 0/115 [00:00<?, ?it/s]\u001b[A\n",
      "training loop:   7%|▋         | 8/115 [00:03<00:48,  2.19it/s]\u001b[A\n",
      "training loop:  14%|█▍        | 16/115 [00:05<00:29,  3.38it/s]\u001b[A\n",
      "training loop:  21%|██        | 24/115 [00:06<00:21,  4.16it/s]\u001b[A\n",
      "training loop:  28%|██▊       | 32/115 [00:07<00:17,  4.70it/s]\u001b[A\n",
      "training loop:  35%|███▍      | 40/115 [00:09<00:15,  4.93it/s]\u001b[A\n",
      "training loop:  42%|████▏     | 48/115 [00:10<00:13,  5.08it/s]\u001b[A\n",
      "training loop:  49%|████▊     | 56/115 [00:12<00:11,  5.35it/s]\u001b[A\n",
      "training loop:  56%|█████▌    | 64/115 [00:13<00:09,  5.56it/s]\u001b[A\n",
      "training loop:  63%|██████▎   | 72/115 [00:14<00:07,  5.69it/s]\u001b[A\n",
      "training loop:  70%|██████▉   | 80/115 [00:16<00:06,  5.79it/s]\u001b[A\n",
      "training loop:  77%|███████▋  | 88/115 [00:17<00:04,  5.87it/s]\u001b[A\n",
      "training loop:  83%|████████▎ | 96/115 [00:18<00:03,  5.91it/s]\u001b[A\n",
      "training loop:  90%|█████████ | 104/115 [00:20<00:01,  5.94it/s]\u001b[A\n",
      "training loop:  97%|█████████▋| 112/115 [00:21<00:00,  5.97it/s]\u001b[A\n",
      "training loop: 100%|██████████| 115/115 [00:22<00:00,  5.11it/s]\u001b[A\n",
      "\n",
      "val loop:   0%|          | 0/13 [00:00<?, ?it/s]\u001b[A\n",
      "val loop:  62%|██████▏   | 8/13 [00:02<00:01,  3.03it/s]\u001b[A\n",
      "val loop: 100%|██████████| 13/13 [00:12<00:00,  1.01it/s]\u001b[A\n",
      "epoch_monitor:  60%|██████    | 6/10 [03:44<02:26, 36.58s/it]"
     ]
    },
    {
     "name": "stdout",
     "output_type": "stream",
     "text": [
      "train loss: 0.49  val loss: 0.44 val acc: 1.00\n"
     ]
    },
    {
     "name": "stderr",
     "output_type": "stream",
     "text": [
      "\n",
      "training loop:   0%|          | 0/115 [00:00<?, ?it/s]\u001b[A\n",
      "training loop:   7%|▋         | 8/115 [00:03<00:46,  2.30it/s]\u001b[A\n",
      "training loop:  14%|█▍        | 16/115 [00:04<00:27,  3.62it/s]\u001b[A\n",
      "training loop:  21%|██        | 24/115 [00:06<00:20,  4.42it/s]\u001b[A\n",
      "training loop:  28%|██▊       | 32/115 [00:07<00:16,  4.94it/s]\u001b[A\n",
      "training loop:  35%|███▍      | 40/115 [00:08<00:14,  5.24it/s]\u001b[A\n",
      "training loop:  42%|████▏     | 48/115 [00:10<00:12,  5.42it/s]\u001b[A\n",
      "training loop:  49%|████▊     | 56/115 [00:11<00:10,  5.58it/s]\u001b[A\n",
      "training loop:  56%|█████▌    | 64/115 [00:12<00:08,  5.71it/s]\u001b[A\n",
      "training loop:  63%|██████▎   | 72/115 [00:14<00:07,  5.81it/s]\u001b[A\n",
      "training loop:  70%|██████▉   | 80/115 [00:15<00:05,  5.88it/s]\u001b[A\n",
      "training loop:  77%|███████▋  | 88/115 [00:16<00:04,  5.94it/s]\u001b[A\n",
      "training loop:  83%|████████▎ | 96/115 [00:18<00:03,  5.97it/s]\u001b[A\n",
      "training loop:  90%|█████████ | 104/115 [00:19<00:01,  5.96it/s]\u001b[A\n",
      "training loop:  97%|█████████▋| 112/115 [00:20<00:00,  5.85it/s]\u001b[A\n",
      "training loop: 100%|██████████| 115/115 [00:21<00:00,  5.23it/s]\u001b[A\n",
      "\n",
      "val loop:   0%|          | 0/13 [00:00<?, ?it/s]\u001b[A\n",
      "val loop:  62%|██████▏   | 8/13 [00:02<00:01,  2.99it/s]\u001b[A\n",
      "val loop: 100%|██████████| 13/13 [00:12<00:00,  1.01it/s]\u001b[A\n",
      "epoch_monitor:  70%|███████   | 7/10 [04:19<01:48, 36.08s/it]"
     ]
    },
    {
     "name": "stdout",
     "output_type": "stream",
     "text": [
      "train loss: 0.50  val loss: 0.35 val acc: 1.00\n"
     ]
    },
    {
     "name": "stderr",
     "output_type": "stream",
     "text": [
      "\n",
      "training loop:   0%|          | 0/115 [00:00<?, ?it/s]\u001b[A\n",
      "training loop:   7%|▋         | 8/115 [00:03<00:45,  2.33it/s]\u001b[A\n",
      "training loop:  14%|█▍        | 16/115 [00:04<00:27,  3.65it/s]\u001b[A\n",
      "training loop:  21%|██        | 24/115 [00:06<00:20,  4.45it/s]\u001b[A\n",
      "training loop:  28%|██▊       | 32/115 [00:07<00:16,  4.96it/s]\u001b[A\n",
      "training loop:  35%|███▍      | 40/115 [00:08<00:14,  5.30it/s]\u001b[A\n",
      "training loop:  42%|████▏     | 48/115 [00:10<00:12,  5.54it/s]\u001b[A\n",
      "training loop:  49%|████▊     | 56/115 [00:11<00:10,  5.67it/s]\u001b[A\n",
      "training loop:  56%|█████▌    | 64/115 [00:12<00:08,  5.80it/s]\u001b[A\n",
      "training loop:  63%|██████▎   | 72/115 [00:14<00:07,  5.89it/s]\u001b[A\n",
      "training loop:  70%|██████▉   | 80/115 [00:15<00:05,  5.92it/s]\u001b[A\n",
      "training loop:  77%|███████▋  | 88/115 [00:16<00:04,  5.95it/s]\u001b[A\n",
      "training loop:  83%|████████▎ | 96/115 [00:18<00:03,  5.97it/s]\u001b[A\n",
      "training loop:  90%|█████████ | 104/115 [00:19<00:01,  6.00it/s]\u001b[A\n",
      "training loop:  97%|█████████▋| 112/115 [00:20<00:00,  6.02it/s]\u001b[A\n",
      "training loop: 100%|██████████| 115/115 [00:21<00:00,  5.30it/s]\u001b[A\n",
      "\n",
      "val loop:   0%|          | 0/13 [00:00<?, ?it/s]\u001b[A\n",
      "val loop:  62%|██████▏   | 8/13 [00:02<00:01,  2.93it/s]\u001b[A\n",
      "val loop: 100%|██████████| 13/13 [00:12<00:00,  1.00it/s]\u001b[A\n",
      "epoch_monitor:  80%|████████  | 8/10 [04:54<01:11, 35.67s/it]"
     ]
    },
    {
     "name": "stdout",
     "output_type": "stream",
     "text": [
      "train loss: 0.32  val loss: 0.32 val acc: 1.00\n"
     ]
    },
    {
     "name": "stderr",
     "output_type": "stream",
     "text": [
      "\n",
      "training loop:   0%|          | 0/115 [00:00<?, ?it/s]\u001b[A\n",
      "training loop:   7%|▋         | 8/115 [00:03<00:45,  2.33it/s]\u001b[A\n",
      "training loop:  14%|█▍        | 16/115 [00:04<00:27,  3.58it/s]\u001b[A\n",
      "training loop:  21%|██        | 24/115 [00:06<00:20,  4.35it/s]\u001b[A\n",
      "training loop:  28%|██▊       | 32/115 [00:07<00:16,  4.90it/s]\u001b[A\n",
      "training loop:  35%|███▍      | 40/115 [00:08<00:14,  5.26it/s]\u001b[A\n",
      "training loop:  42%|████▏     | 48/115 [00:10<00:12,  5.37it/s]\u001b[A\n",
      "training loop:  49%|████▊     | 56/115 [00:11<00:10,  5.54it/s]\u001b[A\n",
      "training loop:  56%|█████▌    | 64/115 [00:12<00:08,  5.70it/s]\u001b[A\n",
      "training loop:  63%|██████▎   | 72/115 [00:14<00:07,  5.82it/s]\u001b[A\n",
      "training loop:  70%|██████▉   | 80/115 [00:15<00:05,  5.88it/s]\u001b[A\n",
      "training loop:  77%|███████▋  | 88/115 [00:16<00:04,  5.94it/s]\u001b[A\n",
      "training loop:  83%|████████▎ | 96/115 [00:18<00:03,  5.97it/s]\u001b[A\n",
      "training loop:  90%|█████████ | 104/115 [00:19<00:01,  5.99it/s]\u001b[A\n",
      "training loop:  97%|█████████▋| 112/115 [00:20<00:00,  6.01it/s]\u001b[A\n",
      "training loop: 100%|██████████| 115/115 [00:21<00:00,  5.25it/s]\u001b[A\n",
      "\n",
      "val loop:   0%|          | 0/13 [00:00<?, ?it/s]\u001b[A\n",
      "val loop:  62%|██████▏   | 8/13 [00:02<00:01,  2.92it/s]\u001b[A\n",
      "val loop: 100%|██████████| 13/13 [00:12<00:00,  1.00it/s]\u001b[A\n",
      "epoch_monitor:  90%|█████████ | 9/10 [05:29<00:35, 35.46s/it]"
     ]
    },
    {
     "name": "stdout",
     "output_type": "stream",
     "text": [
      "train loss: 0.30  val loss: 0.27 val acc: 1.00\n"
     ]
    },
    {
     "name": "stderr",
     "output_type": "stream",
     "text": [
      "\n",
      "training loop:   0%|          | 0/115 [00:00<?, ?it/s]\u001b[A\n",
      "training loop:   7%|▋         | 8/115 [00:03<00:45,  2.36it/s]\u001b[A\n",
      "training loop:  14%|█▍        | 16/115 [00:04<00:27,  3.66it/s]\u001b[A\n",
      "training loop:  21%|██        | 24/115 [00:06<00:20,  4.46it/s]\u001b[A\n",
      "training loop:  28%|██▊       | 32/115 [00:07<00:16,  4.98it/s]\u001b[A\n",
      "training loop:  35%|███▍      | 40/115 [00:08<00:14,  5.32it/s]\u001b[A\n",
      "training loop:  42%|████▏     | 48/115 [00:10<00:12,  5.55it/s]\u001b[A\n",
      "training loop:  49%|████▊     | 56/115 [00:11<00:10,  5.71it/s]\u001b[A\n",
      "training loop:  56%|█████▌    | 64/115 [00:12<00:08,  5.81it/s]\u001b[A\n",
      "training loop:  63%|██████▎   | 72/115 [00:13<00:07,  5.90it/s]\u001b[A\n",
      "training loop:  70%|██████▉   | 80/115 [00:15<00:05,  5.89it/s]\u001b[A\n",
      "training loop:  77%|███████▋  | 88/115 [00:16<00:04,  5.87it/s]\u001b[A\n",
      "training loop:  83%|████████▎ | 96/115 [00:18<00:03,  5.93it/s]\u001b[A\n",
      "training loop:  90%|█████████ | 104/115 [00:19<00:01,  5.97it/s]\u001b[A\n",
      "training loop:  97%|█████████▋| 112/115 [00:20<00:00,  5.99it/s]\u001b[A\n",
      "training loop: 100%|██████████| 115/115 [00:21<00:00,  5.30it/s]\u001b[A\n",
      "\n",
      "val loop:   0%|          | 0/13 [00:00<?, ?it/s]\u001b[A\n",
      "val loop:  62%|██████▏   | 8/13 [00:02<00:01,  2.98it/s]\u001b[A\n",
      "val loop: 100%|██████████| 13/13 [00:12<00:00,  1.01it/s]\u001b[A\n",
      "epoch_monitor: 100%|██████████| 10/10 [06:04<00:00, 36.43s/it]\n"
     ]
    },
    {
     "name": "stdout",
     "output_type": "stream",
     "text": [
      "train loss: 0.25  val loss: 0.26 val acc: 1.00\n"
     ]
    }
   ],
   "source": [
    "#training loop\n",
    "n_epochs = 10\n",
    "\n",
    "best_top1 = 0 \n",
    "best_confmat = None \n",
    "for epoch in trange(0, n_epochs, desc=\"epoch_monitor\", dynamic_ncols=False):\n",
    "    train_loss, train_top1, train_time = utils.train(model, trainloader, optimizer, criterion, device)\n",
    "    val_loss, val_top1, confmat, val_time = utils.evaluate(model, valloader, criterion, device)\n",
    "    \n",
    "    is_best = best_top1 < val_top1\n",
    "    if is_best:\n",
    "        best_top1 = val_top1\n",
    "        best_confmat = confmat\n",
    "        \n",
    "    utils.save_checkpoint({\n",
    "        'model': model.state_dict(),\n",
    "        'epoch': epoch, \n",
    "        'best_top1':best_top1,\n",
    "        'val_top1':val_top1}, \n",
    "        exp_dir,\n",
    "        is_best)\n",
    "    \n",
    "    logger.append(\n",
    "            [lr, train_loss, val_loss,\n",
    "            train_top1, val_top1,  \n",
    "            train_time, val_time],\n",
    "            epoch)\n",
    "\n",
    "    print(\"train loss: {:.2f}  val loss: {:.2f} val acc: {:.2f}\".format(train_loss, val_loss, val_top1))\n",
    "\n",
    "logger.close()\n",
    "    "
   ]
  },
  {
   "cell_type": "code",
   "execution_count": 9,
   "id": "8a0a3cd6",
   "metadata": {},
   "outputs": [
    {
     "data": {
      "text/plain": [
       "array([[4, 0, 0],\n",
       "       [0, 2, 0],\n",
       "       [0, 0, 7]])"
      ]
     },
     "execution_count": 9,
     "metadata": {},
     "output_type": "execute_result"
    }
   ],
   "source": [
    "confmat"
   ]
  },
  {
   "cell_type": "code",
   "execution_count": 10,
   "id": "deed075c",
   "metadata": {},
   "outputs": [
    {
     "data": {
      "text/plain": [
       "1.0"
      ]
     },
     "execution_count": 10,
     "metadata": {},
     "output_type": "execute_result"
    }
   ],
   "source": [
    "train_top1"
   ]
  },
  {
   "cell_type": "code",
   "execution_count": null,
   "id": "b4c6969d",
   "metadata": {},
   "outputs": [],
   "source": []
  }
 ],
 "metadata": {
  "kernelspec": {
   "display_name": "Python 3",
   "language": "python",
   "name": "python3"
  },
  "language_info": {
   "codemirror_mode": {
    "name": "ipython",
    "version": 3
   },
   "file_extension": ".py",
   "mimetype": "text/x-python",
   "name": "python",
   "nbconvert_exporter": "python",
   "pygments_lexer": "ipython3",
   "version": "3.8.10"
  }
 },
 "nbformat": 4,
 "nbformat_minor": 5
}
