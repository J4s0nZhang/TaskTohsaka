{
 "cells": [
  {
   "cell_type": "code",
   "execution_count": 1,
   "id": "c106a3f1",
   "metadata": {},
   "outputs": [],
   "source": [
    "import os"
   ]
  },
  {
   "cell_type": "code",
   "execution_count": 3,
   "id": "1112da8b",
   "metadata": {},
   "outputs": [],
   "source": [
    "data_dir = \"../../different_cards\"\n",
    "\n",
    "with open(os.path.join(data_dir, \"data.txt\"), \"w\") as outfile:\n",
    "    for item in os.listdir(data_dir):\n",
    "        item_path = os.path.join(data_dir, item)\n",
    "\n",
    "        # if item is a directory (it contains images)\n",
    "        if os.path.isdir(item_path):\n",
    "            class_name = item\n",
    "            for image in os.listdir(os.path.join(data_dir, item)):\n",
    "                outfile.write(\"{},{}\\n\".format(item, image))\n",
    "        "
   ]
  },
  {
   "cell_type": "code",
   "execution_count": null,
   "id": "a6282f6a",
   "metadata": {},
   "outputs": [],
   "source": []
  }
 ],
 "metadata": {
  "kernelspec": {
   "display_name": "Python 3",
   "language": "python",
   "name": "python3"
  },
  "language_info": {
   "codemirror_mode": {
    "name": "ipython",
    "version": 3
   },
   "file_extension": ".py",
   "mimetype": "text/x-python",
   "name": "python",
   "nbconvert_exporter": "python",
   "pygments_lexer": "ipython3",
   "version": "3.8.10"
  }
 },
 "nbformat": 4,
 "nbformat_minor": 5
}
