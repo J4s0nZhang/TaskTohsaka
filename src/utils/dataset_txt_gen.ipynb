{
 "cells": [
  {
   "cell_type": "code",
   "execution_count": 1,
   "id": "c106a3f1",
   "metadata": {},
   "outputs": [],
   "source": [
    "import os\n",
    "import numpy as np "
   ]
  },
  {
   "cell_type": "code",
   "execution_count": 3,
   "id": "1112da8b",
   "metadata": {},
   "outputs": [],
   "source": [
    "# run this cell to create a .txt of your image dataset directory \n",
    "\n",
    "data_dir = \"../../siemese_data\"\n",
    "\n",
    "with open(os.path.join(data_dir, \"data.txt\"), \"w\") as outfile:\n",
    "    for item in os.listdir(data_dir):\n",
    "        item_path = os.path.join(data_dir, item)\n",
    "\n",
    "        # if item is a directory (it contains images)\n",
    "        if os.path.isdir(item_path):\n",
    "            class_name = item\n",
    "            for image in os.listdir(os.path.join(data_dir, item)):\n",
    "                if not \".DS_Store\" in image:\n",
    "                    outfile.write(\"{},{}\\n\".format(item, image))\n",
    "        "
   ]
  },
  {
   "cell_type": "code",
   "execution_count": 3,
   "id": "a6282f6a",
   "metadata": {},
   "outputs": [],
   "source": [
    "# run this cell to create a test split of n samples from each class \n",
    "classes = [\"arts\", \"buster\", \"quick\"]\n",
    "n = 10 \n",
    "src_dir = \"../../different_cards\"\n",
    "dest_dir = src_dir\n",
    "\n",
    "\n",
    "with open(os.path.join(src_dir, \"data.txt\"), \"r\") as f:\n",
    "    f_contents = f.readlines()\n",
    "\n",
    "img_labels = np.array([x.split(',')[0] for x in f_contents])\n",
    "\n",
    "outfile_contents = []\n",
    "for c in classes: \n",
    "    class_inds = np.where(img_labels == c)[0]\n",
    "    n_class_inds = np.random.choice(class_inds, n, replace=False)\n",
    "    for i in range(len(n_class_inds)):\n",
    "        outfile_contents.append(f_contents[n_class_inds[i]])\n",
    "\n",
    "with open(os.path.join(dest_dir, \"test_split.txt\"), \"w\") as outfile: \n",
    "    outfile.writelines(outfile_contents)"
   ]
  },
  {
   "cell_type": "code",
   "execution_count": null,
   "id": "a56fd8af",
   "metadata": {},
   "outputs": [],
   "source": []
  }
 ],
 "metadata": {
  "kernelspec": {
   "display_name": "Python 3",
   "language": "python",
   "name": "python3"
  },
  "language_info": {
   "codemirror_mode": {
    "name": "ipython",
    "version": 3
   },
   "file_extension": ".py",
   "mimetype": "text/x-python",
   "name": "python",
   "nbconvert_exporter": "python",
   "pygments_lexer": "ipython3",
   "version": "3.8.10"
  }
 },
 "nbformat": 4,
 "nbformat_minor": 5
}
