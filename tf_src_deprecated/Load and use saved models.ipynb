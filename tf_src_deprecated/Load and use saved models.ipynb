{
 "cells": [
  {
   "cell_type": "markdown",
   "metadata": {},
   "source": [
    "## Load saved model in 2 different formats"
   ]
  },
  {
   "cell_type": "code",
   "execution_count": 40,
   "metadata": {},
   "outputs": [],
   "source": [
    "import tensorflow as tf \n",
    "import os\n",
    "from PIL import Image\n",
    "import matplotlib.pyplot as plt\n",
    "import numpy as np\n",
    "from tensorflow.keras.preprocessing.image import smart_resize"
   ]
  },
  {
   "cell_type": "code",
   "execution_count": 3,
   "metadata": {},
   "outputs": [],
   "source": [
    "# load from folder created by model.save() by default \n",
    "\n",
    "model = tf.keras.models.load_model('./backup_card_classifier_model')"
   ]
  },
  {
   "cell_type": "code",
   "execution_count": 4,
   "metadata": {},
   "outputs": [
    {
     "name": "stdout",
     "output_type": "stream",
     "text": [
      "Model: \"functional_5\"\n",
      "_________________________________________________________________\n",
      "Layer (type)                 Output Shape              Param #   \n",
      "=================================================================\n",
      "input_5 (InputLayer)         [(None, 96, 96, 3)]       0         \n",
      "_________________________________________________________________\n",
      "rescaling_1 (Rescaling)      (None, 96, 96, 3)         0         \n",
      "_________________________________________________________________\n",
      "resnet50 (Functional)        (None, 3, 3, 2048)        23587712  \n",
      "_________________________________________________________________\n",
      "global_average_pooling2d_1 ( (None, 2048)              0         \n",
      "_________________________________________________________________\n",
      "sequential_2 (Sequential)    (None, 3)                 8398851   \n",
      "=================================================================\n",
      "Total params: 31,986,563\n",
      "Trainable params: 31,933,443\n",
      "Non-trainable params: 53,120\n",
      "_________________________________________________________________\n"
     ]
    }
   ],
   "source": [
    "model.summary()"
   ]
  },
  {
   "cell_type": "code",
   "execution_count": 43,
   "metadata": {},
   "outputs": [
    {
     "name": "stdout",
     "output_type": "stream",
     "text": [
      "Screen Shot 2020-08-19 at 5.23.36 PM.png\n",
      "Screen Shot 2020-08-19 at 5.23.55 PM.png\n",
      "Screen Shot 2020-08-19 at 5.49.11 PM.png\n",
      "Screen Shot 2020-08-19 at 5.37.00 PM.png\n",
      "Screen Shot 2020-08-19 at 5.49.39 PM.png\n",
      "(5, 96, 96, 3)\n"
     ]
    }
   ],
   "source": [
    "# load a list of images as input to the bot, create dataset from the list and rescale the images\n",
    "\n",
    "path = \"different_cards/arts/\"\n",
    "img_size = (96, 96)\n",
    "network_in = []\n",
    "counter = 0 \n",
    "for image in os.listdir(path):\n",
    "    if counter == 5:\n",
    "        break\n",
    "    print(image)\n",
    "    img = Image.open(os.path.join(path, image))\n",
    "    img = img.convert('RGB')\n",
    "    img = np.array(img)\n",
    "    img = smart_resize(img, img_size)\n",
    "    network_in.append(img)\n",
    "    counter = counter + 1\n",
    "\n",
    "network_in = tf.convert_to_tensor(network_in)\n",
    "print(network_in.shape)"
   ]
  },
  {
   "cell_type": "code",
   "execution_count": 44,
   "metadata": {},
   "outputs": [
    {
     "data": {
      "text/plain": [
       "array([[9.2263049e-01, 4.5749696e-04, 7.6912031e-02],\n",
       "       [9.7886068e-01, 6.1117935e-05, 2.1078123e-02],\n",
       "       [9.1116077e-01, 2.1344416e-04, 8.8625826e-02],\n",
       "       [9.8074889e-01, 9.9290024e-05, 1.9151919e-02],\n",
       "       [9.6142644e-01, 1.7314540e-04, 3.8400378e-02]], dtype=float32)"
      ]
     },
     "execution_count": 44,
     "metadata": {},
     "output_type": "execute_result"
    }
   ],
   "source": [
    "model.predict(network_in)"
   ]
  },
  {
   "cell_type": "code",
   "execution_count": 47,
   "metadata": {},
   "outputs": [],
   "source": [
    "# load architecture first, and then load the weights\n",
    "f = open(\"card_class_model_arch.json\")\n",
    "json_config = f.read()\n",
    "model2 = tf.keras.models.model_from_json(json_config)"
   ]
  },
  {
   "cell_type": "code",
   "execution_count": 48,
   "metadata": {},
   "outputs": [],
   "source": [
    "model2.load_weights(\"card_class_model_weights.h5\")"
   ]
  },
  {
   "cell_type": "code",
   "execution_count": 49,
   "metadata": {},
   "outputs": [
    {
     "data": {
      "text/plain": [
       "array([[9.8161745e-01, 8.6553063e-04, 1.7516972e-02],\n",
       "       [9.9540341e-01, 2.3069537e-04, 4.3659047e-03],\n",
       "       [9.5898730e-01, 8.4353262e-04, 4.0169176e-02],\n",
       "       [9.8791027e-01, 5.6660431e-04, 1.1523083e-02],\n",
       "       [9.8859614e-01, 5.5075838e-04, 1.0853106e-02]], dtype=float32)"
      ]
     },
     "execution_count": 49,
     "metadata": {},
     "output_type": "execute_result"
    }
   ],
   "source": [
    "model2.predict(network_in)"
   ]
  },
  {
   "cell_type": "code",
   "execution_count": null,
   "metadata": {},
   "outputs": [],
   "source": []
  }
 ],
 "metadata": {
  "kernelspec": {
   "display_name": "Python 3",
   "language": "python",
   "name": "python3"
  },
  "language_info": {
   "codemirror_mode": {
    "name": "ipython",
    "version": 3
   },
   "file_extension": ".py",
   "mimetype": "text/x-python",
   "name": "python",
   "nbconvert_exporter": "python",
   "pygments_lexer": "ipython3",
   "version": "3.8.5"
  }
 },
 "nbformat": 4,
 "nbformat_minor": 4
}
